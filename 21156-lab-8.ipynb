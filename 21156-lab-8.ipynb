{
 "cells": [
  {
   "cell_type": "code",
   "execution_count": 1,
   "id": "8e5dfa13",
   "metadata": {},
   "outputs": [],
   "source": [
    "import pandas as pd\n",
    "import numpy as np\n",
    "from sklearn.naive_bayes import GaussianNB\n",
    "from sklearn.preprocessing import LabelEncoder\n",
    "from sklearn.model_selection import train_test_split\n",
    "from sklearn.metrics import accuracy_score\n",
    "# Given data\n",
    "information = {\n",
    "    'age': ['<=30', '<=30', '31…40', '>40', '>40', '>40', '31…40', '<=30', '<=30', '>40', '<=30', '31…40', '31…40', '>40'],\n",
    "    'income': ['high', 'high', 'high', 'medium', 'low', 'low', 'low', 'medium', 'low', 'medium', 'medium', 'medium', 'high', 'medium'],\n",
    "    'student': ['no', 'no', 'no', 'no', 'yes', 'yes', 'yes', 'no', 'yes', 'yes', 'yes', 'no', 'yes', 'no'],\n",
    "    'credit_rating': ['fair', 'excellent', 'fair', 'fair', 'fair', 'excellent', 'excellent', 'fair', 'fair', 'fair', 'excellent', 'excellent', 'fair', 'excellent'],\n",
    "    'buys_computer': ['no', 'no', 'yes', 'yes', 'yes', 'no', 'yes', 'no', 'yes', 'yes', 'yes', 'yes', 'yes', 'no']\n",
    "}\n",
    "\n",
    "# Create a DataFrame\n",
    "dataframe = pd.DataFrame(information)"
   ]
  },
  {
   "cell_type": "code",
   "execution_count": 5,
   "id": "e376cf0f",
   "metadata": {},
   "outputs": [],
   "source": [
    "#Encoding string data into numerical data\n",
    "label = LabelEncoder()\n",
    "encoded = dataframe.apply(label.fit_transform)\n",
    "feature = encoded.drop('buys_computer', axis=1)\n",
    "target = encoded['buys_computer']"
   ]
  },
  {
   "cell_type": "code",
   "execution_count": 7,
   "id": "7afa7202",
   "metadata": {},
   "outputs": [],
   "source": [
    "# Split the dataset into training and testing sets\n",
    "X_train, X_test, y_train, y_test = train_test_split(feature, target, test_size=0.2, random_state=42)\n",
    "\n",
    "# A1: prior probabilities for each class\n",
    "priors_probs = y_train.value_counts(normalize=True).to_dict()\n",
    "\n",
    "# A2: Calculate the class conditional densities \n",
    "conditional_densities = {}\n",
    "for column in feature.columns:\n",
    "    conditional_densities[column] = X_train.groupby(y_train)[column].value_counts(normalize=True).unstack().fillna(0).to_dict()\n",
    "\n",
    "# A3: Test for independence between features\n",
    "independence_feature = X_train.corr().to_dict()\n",
    "\n",
    "# A4: Build a Naïve-Bayes classifier\n",
    "Naive_model = GaussianNB()\n",
    "Naive_model.fit(X_train, y_train)\n",
    "\n",
    "# Make predictions on the test set\n",
    "predictions = Naive_model.predict(X_test)\n",
    "\n",
    "# Calculate accuracy of the predictions\n",
    "accuracy = accuracy_score(y_test, predictions)\n",
    "\n"
   ]
  },
  {
   "cell_type": "code",
   "execution_count": 8,
   "id": "f2ff0c8c",
   "metadata": {},
   "outputs": [
    {
     "name": "stdout",
     "output_type": "stream",
     "text": [
      "A1: Prior Probabilities: {1: 0.6363636363636364, 0: 0.36363636363636365}\n",
      "\n",
      "A2: Class Conditional Densities: {'age': {0: {0: 0.0, 1: 0.42857142857142855}, 1: {0: 0.5, 1: 0.2857142857142857}, 2: {0: 0.5, 1: 0.2857142857142857}}, 'income': {0: {0: 0.25, 1: 0.2857142857142857}, 1: {0: 0.25, 1: 0.42857142857142855}, 2: {0: 0.5, 1: 0.2857142857142857}}, 'student': {0: {0: 0.75, 1: 0.2857142857142857}, 1: {0: 0.25, 1: 0.7142857142857143}}, 'credit_rating': {0: {0: 0.75, 1: 0.2857142857142857}, 1: {0: 0.25, 1: 0.7142857142857143}}}\n",
      "\n",
      "A3: Feature Independence: {'age': {'age': 1.0, 'income': 0.5657894736842105, 'student': -0.12565617248750865, 'credit_rating': -0.12565617248750865}, 'income': {'age': 0.5657894736842105, 'income': 1.0, 'student': -0.12565617248750863, 'credit_rating': -0.12565617248750865}, 'student': {'age': -0.12565617248750865, 'income': -0.12565617248750863, 'student': 1.0, 'credit_rating': -0.10000000000000005}, 'credit_rating': {'age': -0.12565617248750865, 'income': -0.12565617248750865, 'student': -0.10000000000000005, 'credit_rating': 1.0}}\n",
      "\n",
      "A4: Naïve-Bayes Classifier Test Set Accuracy: 0.6666666666666666\n"
     ]
    }
   ],
   "source": [
    "# Output the results\n",
    "print(\"A1: Prior Probabilities:\", priors_probs)\n",
    "print(\"\\nA2: Class Conditional Densities:\", conditional_densities)\n",
    "print(\"\\nA3: Feature Independence:\", independence_feature)\n",
    "print(\"\\nA4: Naïve-Bayes Classifier Test Set Accuracy:\", accuracy)\n"
   ]
  },
  {
   "cell_type": "code",
   "execution_count": 9,
   "id": "64940974",
   "metadata": {},
   "outputs": [
    {
     "name": "stdout",
     "output_type": "stream",
     "text": [
      "The shape of samples and featuresis:\n",
      "  (16384, 13) (16384, 1)\n",
      "(16384, 13) (16384,)\n",
      "<class 'pandas.core.frame.DataFrame'>\n",
      "RangeIndex: 16384 entries, 0 to 16383\n",
      "Data columns (total 14 columns):\n",
      " #   Column  Non-Null Count  Dtype  \n",
      "---  ------  --------------  -----  \n",
      " 0   0       16384 non-null  float64\n",
      " 1   1       16384 non-null  float64\n",
      " 2   2       16384 non-null  float64\n",
      " 3   3       16384 non-null  float64\n",
      " 4   4       16384 non-null  float64\n",
      " 5   5       16384 non-null  float64\n",
      " 6   6       16384 non-null  float64\n",
      " 7   7       16384 non-null  float64\n",
      " 8   8       16384 non-null  float64\n",
      " 9   9       16384 non-null  float64\n",
      " 10  10      16384 non-null  float64\n",
      " 11  11      16384 non-null  float64\n",
      " 12  12      16384 non-null  float64\n",
      " 13  13      16384 non-null  uint8  \n",
      "dtypes: float64(13), uint8(1)\n",
      "memory usage: 1.6 MB\n"
     ]
    }
   ],
   "source": [
    "import numpy as np\n",
    "import pandas as pd\n",
    "from matplotlib import pyplot as plt\n",
    "from sklearn import preprocessing as prepro \n",
    "from sklearn import datasets, linear_model\n",
    "from sklearn.metrics import mean_squared_error\n",
    "from sklearn.model_selection import train_test_split\n",
    "#Insert your features and labels\n",
    "samples = np.load('activation_maps_lines_image52_pixel.npy')\n",
    "features = np.load('activation_maps_lines_image52_labelpixel.npy')\n",
    "\n",
    "print(\"The shape of samples and featuresis:\\n \",samples.shape,features.shape)\n",
    "# Reshape your data  (pixels x features)\n",
    "samples_num = samples.shape[0]   # Total number of pixels\n",
    "features_num = samples.shape[1]  # Number of features for each pixel\n",
    "X_reshaped = samples.reshape(samples_num,features_num)\n",
    "y_reshaped = features.reshape(samples_num)  # Assuming y is your pixel-wise label mask\n",
    "print(X_reshaped.shape,y_reshaped.shape)\n",
    "dataframe = pd.DataFrame(samples,columns=np.arange(0,13))\n",
    "dataframe['13']=features # Adding features coulmn into the samples dataset \n",
    "dataframe.info()"
   ]
  },
  {
   "cell_type": "code",
   "execution_count": 10,
   "id": "69bfee42",
   "metadata": {},
   "outputs": [
    {
     "name": "stdout",
     "output_type": "stream",
     "text": [
      "Naive Bayes Classifier Accuracy: 0.13976197741837046\n"
     ]
    }
   ],
   "source": [
    "# Split the data into training and testing sets\n",
    "X_train, X_test, y_train, y_test = train_test_split(X_reshaped, y_reshaped, test_size=0.2, random_state=42)\n",
    "\n",
    "# Build and train a Naive Bayes classifier\n",
    "Naive_Bayes = GaussianNB()\n",
    "Naive_Bayes.fit(X_train, y_train)\n",
    "\n",
    "# Test the accuracy of the Naive Bayes classifier\n",
    "accuracy = Naive_Bayes.score(X_test, y_test)\n",
    "print(f\"Naive Bayes Classifier Accuracy: {accuracy}\")\n",
    "\n",
    "# If needed, you can also predict on the test set and evaluate other metrics\n",
    "predictions = Naive_Bayes.predict(X_test)"
   ]
  },
  {
   "cell_type": "code",
   "execution_count": null,
   "id": "2cc1ee4f",
   "metadata": {},
   "outputs": [],
   "source": []
  }
 ],
 "metadata": {
  "kernelspec": {
   "display_name": "Python 3 (ipykernel)",
   "language": "python",
   "name": "python3"
  },
  "language_info": {
   "codemirror_mode": {
    "name": "ipython",
    "version": 3
   },
   "file_extension": ".py",
   "mimetype": "text/x-python",
   "name": "python",
   "nbconvert_exporter": "python",
   "pygments_lexer": "ipython3",
   "version": "3.9.7"
  }
 },
 "nbformat": 4,
 "nbformat_minor": 5
}
