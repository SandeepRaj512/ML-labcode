{
 "cells": [
  {
   "cell_type": "code",
   "execution_count": 32,
   "id": "1b4e2544",
   "metadata": {},
   "outputs": [
    {
     "name": "stdout",
     "output_type": "stream",
     "text": [
      "The shape of samples and featuresis:\n",
      "  (16384, 13) (16384, 1)\n",
      "(16384, 13) (16384,)\n"
     ]
    }
   ],
   "source": [
    "import numpy as np\n",
    "import pandas as pd\n",
    "from matplotlib import pyplot as plt\n",
    "from sklearn import preprocessing as prepro \n",
    "\n",
    "#Insert your features and labels\n",
    "samples = np.load('activation_maps_lines_image52_pixel.npy')\n",
    "features = np.load('activation_maps_lines_image52_labelpixel.npy')\n",
    "\n",
    "print(\"The shape of samples and featuresis:\\n \",samples.shape,features.shape)\n",
    "# Reshape your data  (pixels x features)\n",
    "samples_num = samples.shape[0]   # Total number of pixels\n",
    "features_num = samples.shape[1]  # Number of features for each pixel\n",
    "X_reshaped = samples.reshape(samples_num,features_num)\n",
    "y_reshaped = features.reshape(samples_num)  # Assuming y is your pixel-wise label mask\n",
    "print(X_reshaped.shape,y_reshaped.shape)"
   ]
  },
  {
   "cell_type": "code",
   "execution_count": 33,
   "id": "f310d3e0",
   "metadata": {},
   "outputs": [
    {
     "name": "stdout",
     "output_type": "stream",
     "text": [
      "<class 'pandas.core.frame.DataFrame'>\n",
      "RangeIndex: 16384 entries, 0 to 16383\n",
      "Data columns (total 14 columns):\n",
      " #   Column  Non-Null Count  Dtype  \n",
      "---  ------  --------------  -----  \n",
      " 0   0       16384 non-null  float64\n",
      " 1   1       16384 non-null  float64\n",
      " 2   2       16384 non-null  float64\n",
      " 3   3       16384 non-null  float64\n",
      " 4   4       16384 non-null  float64\n",
      " 5   5       16384 non-null  float64\n",
      " 6   6       16384 non-null  float64\n",
      " 7   7       16384 non-null  float64\n",
      " 8   8       16384 non-null  float64\n",
      " 9   9       16384 non-null  float64\n",
      " 10  10      16384 non-null  float64\n",
      " 11  11      16384 non-null  float64\n",
      " 12  12      16384 non-null  float64\n",
      " 13  13      16384 non-null  uint8  \n",
      "dtypes: float64(13), uint8(1)\n",
      "memory usage: 1.6 MB\n"
     ]
    }
   ],
   "source": [
    "dataframe = pd.DataFrame(samples,columns=np.arange(0,13))\n",
    "dataframe['13']=features # Adding features coulmn into the samples dataset \n",
    "dataframe.info() "
   ]
  },
  {
   "cell_type": "code",
   "execution_count": 34,
   "id": "3042f4ee",
   "metadata": {},
   "outputs": [
    {
     "data": {
      "text/plain": [
       "<matplotlib.collections.PathCollection at 0x20f5fc20550>"
      ]
     },
     "execution_count": 34,
     "metadata": {},
     "output_type": "execute_result"
    },
    {
     "data": {
      "image/png": "[encoded data removed]",
      "text/plain": [
       "<Figure size 432x288 with 1 Axes>"
      ]
     },
     "metadata": {
      "needs_background": "light"
     },
     "output_type": "display_data"
    }
   ],
   "source": [
    "# Question A1\n",
    "X_feature=dataframe[7]\n",
    "Y_feature=dataframe[2]\n",
    "plt.scatter(X_feature,Y_feature)"
   ]
  },
  {
   "cell_type": "code",
   "execution_count": 35,
   "id": "0efe141a",
   "metadata": {},
   "outputs": [],
   "source": [
    "# Question A2\n",
    "from sklearn import datasets, linear_model\n",
    "from sklearn.metrics import mean_squared_error\n",
    "from sklearn.model_selection import train_test_split\n",
    "feature_1 =pd.DataFrame(dataframe[11])\n",
    "feature_2  =pd.DataFrame(dataframe[5])\n",
    "# Split the reshaped data into training and testing sets\n",
    "data_train, data_test, output_train, output_test = train_test_split(feature_1, feature_2, test_size=0.3, random_state=42)\n",
    "ln_regre=linear_model.LinearRegression()\n",
    "ln_regre.fit(data_train,output_train)\n",
    "ln_regre_predict=ln_regre.predict(data_test)"
   ]
  },
  {
   "cell_type": "code",
   "execution_count": 36,
   "id": "7a92916a",
   "metadata": {},
   "outputs": [
    {
     "name": "stdout",
     "output_type": "stream",
     "text": [
      "Mean Sqaured error: 0.00\n"
     ]
    }
   ],
   "source": [
    "print(\"Mean Sqaured error: %.2f\" % mean_squared_error(output_test,ln_regre_predict))"
   ]
  },
  {
   "cell_type": "code",
   "execution_count": 37,
   "id": "c875c93d",
   "metadata": {},
   "outputs": [
    {
     "data": {
      "text/plain": [
       "[<matplotlib.lines.Line2D at 0x20f5fc96460>]"
      ]
     },
     "execution_count": 37,
     "metadata": {},
     "output_type": "execute_result"
    },
    {
     "data": {
      "image/png": "[encoded data removed]",
      "text/plain": [
       "<Figure size 432x288 with 1 Axes>"
      ]
     },
     "metadata": {
      "needs_background": "light"
     },
     "output_type": "display_data"
    }
   ],
   "source": [
    "plt.scatter(data_test,output_test,color=\"black\")\n",
    "plt.plot(data_test,ln_regre_predict,color=\"blue\",linewidth=4)"
   ]
  },
  {
   "cell_type": "code",
   "execution_count": 38,
   "id": "e7a9301e",
   "metadata": {},
   "outputs": [
    {
     "name": "stdout",
     "output_type": "stream",
     "text": [
      "The mean value of class 1: \n",
      " 11    0.000242\n",
      "dtype: float64\n",
      "The mean value of class 2: \n",
      " 5    0.000857\n",
      "dtype: float64\n",
      "The vaue of theta_1 : \n",
      " 5     NaN\n",
      "11    0.0\n",
      "dtype: float64\n",
      "The value of theta_0 : \n",
      " 5    NaN\n",
      "11   NaN\n",
      "dtype: float64\n"
     ]
    }
   ],
   "source": [
    "# Question A3\n",
    "ind_feature_mean=feature_1.mean()\n",
    "print(\"The mean value of class 1: \\n\",ind_feature_mean)\n",
    "dep_feature_mean=feature_2.mean()\n",
    "print(\"The mean value of class 2: \\n\",dep_feature_mean)\n",
    "theta_1 = np.sum((feature_1 - ind_feature_mean) * (feature_2 - dep_feature_mean)) / np.sum((feature_1 - ind_feature_mean) ** 2)\n",
    "print(\"The vaue of theta_1 : \\n\",theta_1)\n",
    "theta_0 = dep_feature_mean - theta_1 * ind_feature_mean\n",
    "print(\"The value of theta_0 : \\n\",theta_0)"
   ]
  },
  {
   "cell_type": "code",
   "execution_count": 41,
   "id": "c84899c2",
   "metadata": {},
   "outputs": [
    {
     "name": "stdout",
     "output_type": "stream",
     "text": [
      "Accuracy: 56.12%\n",
      "Mean Sqaured error: 0.55\n"
     ]
    }
   ],
   "source": [
    "# Question A4\n",
    "from sklearn.linear_model import LogisticRegression\n",
    "from sklearn.metrics import accuracy_score\n",
    "import numpy as np\n",
    "class_1 = dataframe.loc[:, dataframe.columns[:13]]\n",
    "class_2 = dataframe.loc[:, dataframe.columns[13]]\n",
    "input_train, input_test, output_train, output_test = train_test_split(class_1, class_2, test_size=0.2, random_state=42)\n",
    "logreg = LogisticRegression()\n",
    "# Train the model using the training set\n",
    "logreg.fit(input_train, output_train)\n",
    "# Make predictions on the test set\n",
    "output_prediction = logreg.predict(input_test)\n",
    "\n",
    "# Calculate accuracy\n",
    "accuracy = accuracy_score(output_test, output_prediction)\n",
    "print(\"Accuracy: {:.2f}%\".format(accuracy * 100))\n",
    "print(\"Mean Sqaured error: %.2f\" % mean_squared_error(output_test,output_prediction))"
   ]
  },
  {
   "cell_type": "code",
   "execution_count": 44,
   "id": "23b7271c",
   "metadata": {},
   "outputs": [
    {
     "name": "stdout",
     "output_type": "stream",
     "text": [
      "Mean Squared Error: 3.0775129810417873e-06\n",
      "Predicted Value for [[0.]\n",
      " [0.]\n",
      " [0.]\n",
      " ...\n",
      " [0.]\n",
      " [0.]\n",
      " [0.]]: [[0.00130719]\n",
      " [0.00130719]\n",
      " [0.00130719]\n",
      " ...\n",
      " [0.00130719]\n",
      " [0.00130719]\n",
      " [0.00130719]]\n"
     ]
    }
   ],
   "source": [
    "# Question A5\n",
    "# Knn Regressor\n",
    "from sklearn.neighbors import KNeighborsRegressor\n",
    "K_X_train, K_X_test, K_y_train, K_y_test = train_test_split(feature_1, feature_2, test_size=0.2, random_state=42)\n",
    "K_X_train=K_X_train.values.reshape(-1,1)\n",
    "K_X_test=K_X_test.values.reshape(-1,1)\n",
    "k = 3\n",
    "knn_regressor = KNeighborsRegressor(n_neighbors=k)\n",
    "knn_regressor.fit(K_X_train, K_y_train)\n",
    "K_y_pred = knn_regressor.predict(K_X_test)\n",
    "mse = mean_squared_error(K_y_test, K_y_pred)\n",
    "print(\"Mean Squared Error:\", mse)\n",
    "new_data_point = dataframe[4]\n",
    "new_data_point=new_data_point.values.reshape(-1,1)\n",
    "predicted_values = knn_regressor.predict(new_data_point)\n",
    "print(\"Predicted Value for {}: {}\".format(new_data_point, predicted_values))\n"
   ]
  },
  {
   "cell_type": "code",
   "execution_count": 49,
   "id": "6c34c981",
   "metadata": {},
   "outputs": [
    {
     "name": "stdout",
     "output_type": "stream",
     "text": [
      "Mean Squared Error: 2.7693840102590777e-06\n",
      "Predicted Value for [[0.]\n",
      " [0.]\n",
      " [0.]\n",
      " ...\n",
      " [0.]\n",
      " [0.]\n",
      " [0.]]: [0.00083809 0.00083809 0.00083809 ... 0.00083809 0.00083809 0.00083809]\n"
     ]
    }
   ],
   "source": [
    "# Decision tree regressor\n",
    "from sklearn.tree import DecisionTreeRegressor\n",
    "tree_X_train, tree_X_test, tree_y_train, tree_y_test = train_test_split(feature_1, feature_2, test_size=0.2, random_state=42)\n",
    "tree_X_train=tree_X_train.values.reshape(-1,1)\n",
    "tree_X_test=tree_X_test.values.reshape(-1,1)\n",
    "decision_tree_regressor = DecisionTreeRegressor(random_state=42)\n",
    "decision_tree_regressor.fit(tree_X_train, tree_y_train)\n",
    "tree_y_predict = decision_tree_regressor.predict(tree_X_test)\n",
    "mse = mean_squared_error(tree_y_test, tree_y_predict)\n",
    "print(\"Mean Squared Error:\", mse)\n",
    "new_data_point = dataframe[4]\n",
    "new_data_point=new_data_point.values.reshape(-1,1)\n",
    "predicted_values = decision_tree_regressor.predict(new_data_point)\n",
    "print(\"Predicted Value for {}: {}\".format(new_data_point, predicted_values))"
   ]
  },
  {
   "cell_type": "code",
   "execution_count": null,
   "id": "81749b52",
   "metadata": {},
   "outputs": [],
   "source": []
  }
 ],
 "metadata": {
  "kernelspec": {
   "display_name": "Python 3 (ipykernel)",
   "language": "python",
   "name": "python3"
  },
  "language_info": {
   "codemirror_mode": {
    "name": "ipython",
    "version": 3
   },
   "file_extension": ".py",
   "mimetype": "text/x-python",
   "name": "python",
   "nbconvert_exporter": "python",
   "pygments_lexer": "ipython3",
   "version": "3.9.7"
  }
 },
 "nbformat": 4,
 "nbformat_minor": 5
}
