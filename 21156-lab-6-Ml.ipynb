{
 "cells": [
  {
   "cell_type": "code",
   "execution_count": 1,
   "id": "1b4e2544",
   "metadata": {},
   "outputs": [
    {
     "name": "stdout",
     "output_type": "stream",
     "text": [
      "The shape of samples and featuresis:\n",
      "  (16384, 13) (16384, 1)\n",
      "(16384, 13) (16384,)\n"
     ]
    }
   ],
   "source": [
    "import numpy as np\n",
    "import pandas as pd\n",
    "from matplotlib import pyplot as plt\n",
    "from sklearn import preprocessing as prepro \n",
    "\n",
    "#Insert your features and labels\n",
    "samples = np.load('activation_maps_lines_image52_pixel.npy')\n",
    "features = np.load('activation_maps_lines_image52_labelpixel.npy')\n",
    "\n",
    "print(\"The shape of samples and featuresis:\\n \",samples.shape,features.shape)\n",
    "# Reshape your data  (pixels x features)\n",
    "samples_num = samples.shape[0]   # Total number of pixels\n",
    "features_num = samples.shape[1]  # Number of features for each pixel\n",
    "X_reshaped = samples.reshape(samples_num,features_num)\n",
    "y_reshaped = features.reshape(samples_num)  # Assuming y is your pixel-wise label mask\n",
    "print(X_reshaped.shape,y_reshaped.shape)"
   ]
  },
  {
   "cell_type": "code",
   "execution_count": 3,
   "id": "f310d3e0",
   "metadata": {},
   "outputs": [
    {
     "name": "stdout",
     "output_type": "stream",
     "text": [
      "<class 'pandas.core.frame.DataFrame'>\n",
      "RangeIndex: 16384 entries, 0 to 16383\n",
      "Data columns (total 14 columns):\n",
      " #   Column  Non-Null Count  Dtype  \n",
      "---  ------  --------------  -----  \n",
      " 0   0       16384 non-null  float64\n",
      " 1   1       16384 non-null  float64\n",
      " 2   2       16384 non-null  float64\n",
      " 3   3       16384 non-null  float64\n",
      " 4   4       16384 non-null  float64\n",
      " 5   5       16384 non-null  float64\n",
      " 6   6       16384 non-null  float64\n",
      " 7   7       16384 non-null  float64\n",
      " 8   8       16384 non-null  float64\n",
      " 9   9       16384 non-null  float64\n",
      " 10  10      16384 non-null  float64\n",
      " 11  11      16384 non-null  float64\n",
      " 12  12      16384 non-null  float64\n",
      " 13  13      16384 non-null  uint8  \n",
      "dtypes: float64(13), uint8(1)\n",
      "memory usage: 1.6 MB\n"
     ]
    }
   ],
   "source": [
    "dataframe = pd.DataFrame(samples,columns=np.arange(0,13))\n",
    "dataframe['13']=features # Adding features coulmn into the samples dataset \n",
    "dataframe.info() "
   ]
  },
  {
   "cell_type": "code",
   "execution_count": 6,
   "id": "3042f4ee",
   "metadata": {},
   "outputs": [
    {
     "data": {
      "text/plain": [
       "<matplotlib.collections.PathCollection at 0x1d87744ec70>"
      ]
     },
     "execution_count": 6,
     "metadata": {},
     "output_type": "execute_result"
    },
    {
     "data": {
      "image/png": "[encoded data removed]",
      "text/plain": [
       "<Figure size 432x288 with 1 Axes>"
      ]
     },
     "metadata": {
      "needs_background": "light"
     },
     "output_type": "display_data"
    }
   ],
   "source": [
    "# Question A1\n",
    "X_feature=dataframe[7]\n",
    "Y_feature=dataframe[2]\n",
    "plt.scatter(X_feature,Y_feature)"
   ]
  },
  {
   "cell_type": "code",
   "execution_count": 7,
   "id": "0efe141a",
   "metadata": {},
   "outputs": [],
   "source": [
    "# Question A2\n",
    "from sklearn import datasets, linear_model\n",
    "from sklearn.metrics import mean_squared_error\n",
    "from sklearn.model_selection import train_test_split\n",
    "feature_1=pd.DataFrame(dataframe[7])\n",
    "feature_2  =pd.DataFrame(dataframe['13'])\n",
    "# Split the reshaped data into training and testing sets\n",
    "data_train, data_test, output_train, output_test = train_test_split(feature_1, feature_2, test_size=0.3, random_state=42)\n",
    "ln_regre=linear_model.LinearRegression()\n",
    "ln_regre.fit(data_train,output_train)\n",
    "ln_regre_predict=ln_regre.predict(data_test)"
   ]
  },
  {
   "cell_type": "code",
   "execution_count": 8,
   "id": "7a92916a",
   "metadata": {},
   "outputs": [
    {
     "name": "stdout",
     "output_type": "stream",
     "text": [
      "Mean Sqaured error: 13338.16\n"
     ]
    }
   ],
   "source": [
    "print(\"Mean Sqaured error: %.2f\" % mean_squared_error(output_test,ln_regre_predict))"
   ]
  },
  {
   "cell_type": "code",
   "execution_count": 11,
   "id": "c875c93d",
   "metadata": {},
   "outputs": [
    {
     "data": {
      "text/plain": [
       "[<matplotlib.lines.Line2D at 0x1d87790e5b0>]"
      ]
     },
     "execution_count": 11,
     "metadata": {},
     "output_type": "execute_result"
    },
    {
     "data": {
      "image/png": "[encoded data removed]",
      "text/plain": [
       "<Figure size 432x288 with 1 Axes>"
      ]
     },
     "metadata": {
      "needs_background": "light"
     },
     "output_type": "display_data"
    }
   ],
   "source": [
    "plt.scatter(data_test,output_test,color=\"black\")\n",
    "plt.plot(data_test,ln_regre_predict,color=\"blue\",linewidth=4)"
   ]
  },
  {
   "cell_type": "code",
   "execution_count": null,
   "id": "e7a9301e",
   "metadata": {},
   "outputs": [],
   "source": []
  }
 ],
 "metadata": {
  "kernelspec": {
   "display_name": "Python 3 (ipykernel)",
   "language": "python",
   "name": "python3"
  },
  "language_info": {
   "codemirror_mode": {
    "name": "ipython",
    "version": 3
   },
   "file_extension": ".py",
   "mimetype": "text/x-python",
   "name": "python",
   "nbconvert_exporter": "python",
   "pygments_lexer": "ipython3",
   "version": "3.9.7"
  }
 },
 "nbformat": 4,
 "nbformat_minor": 5
}
