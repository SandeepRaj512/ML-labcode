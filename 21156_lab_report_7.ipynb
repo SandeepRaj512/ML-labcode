{
  "cells": [
    {
      "cell_type": "code",
      "execution_count": 2,
      "id": "4cdd14e8",
      "metadata": {
        "colab": {
          "base_uri": "https://localhost:8080/"
        },
        "id": "4cdd14e8",
        "outputId": "85aa6c2b-2232-4581-e907-644d9ec2fc8d"
      },
      "outputs": [
        {
          "output_type": "stream",
          "name": "stdout",
          "text": [
            "The shape of samples and featuresis:\n",
            "  (16384, 13) (16384, 1)\n",
            "(16384, 13) (16384,)\n"
          ]
        }
      ],
      "source": [
        "import numpy as np\n",
        "import pandas as pd\n",
        "from matplotlib import pyplot as plt\n",
        "from sklearn import preprocessing as prepro\n",
        "from sklearn import datasets, linear_model\n",
        "from sklearn.metrics import mean_squared_error\n",
        "from sklearn.model_selection import train_test_split\n",
        "#Insert your features and labels\n",
        "samples = np.load('activation_maps_lines_image52_pixel.npy')\n",
        "features = np.load('activation_maps_lines_image52_labelpixel (1).npy')\n",
        "\n",
        "print(\"The shape of samples and featuresis:\\n \",samples.shape,features.shape)\n",
        "# Reshape your data  (pixels x features)\n",
        "samples_num = samples.shape[0]   # Total number of pixels\n",
        "features_num = samples.shape[1]  # Number of features for each pixel\n",
        "X_reshaped = samples.reshape(samples_num,features_num)\n",
        "y_reshaped = features.reshape(samples_num)  # Assuming y is your pixel-wise label mask\n",
        "print(X_reshaped.shape,y_reshaped.shape)"
      ]
    },
    {
      "cell_type": "code",
      "execution_count": 3,
      "id": "658a80fc",
      "metadata": {
        "colab": {
          "base_uri": "https://localhost:8080/"
        },
        "id": "658a80fc",
        "outputId": "034d0de5-dd2a-4711-f7ed-ec151a11c9cc"
      },
      "outputs": [
        {
          "output_type": "stream",
          "name": "stdout",
          "text": [
            "<class 'pandas.core.frame.DataFrame'>\n",
            "RangeIndex: 16384 entries, 0 to 16383\n",
            "Data columns (total 14 columns):\n",
            " #   Column  Non-Null Count  Dtype  \n",
            "---  ------  --------------  -----  \n",
            " 0   0       16384 non-null  float64\n",
            " 1   1       16384 non-null  float64\n",
            " 2   2       16384 non-null  float64\n",
            " 3   3       16384 non-null  float64\n",
            " 4   4       16384 non-null  float64\n",
            " 5   5       16384 non-null  float64\n",
            " 6   6       16384 non-null  float64\n",
            " 7   7       16384 non-null  float64\n",
            " 8   8       16384 non-null  float64\n",
            " 9   9       16384 non-null  float64\n",
            " 10  10      16384 non-null  float64\n",
            " 11  11      16384 non-null  float64\n",
            " 12  12      16384 non-null  float64\n",
            " 13  13      16384 non-null  uint8  \n",
            "dtypes: float64(13), uint8(1)\n",
            "memory usage: 1.6 MB\n"
          ]
        }
      ],
      "source": [
        "dataframe = pd.DataFrame(samples,columns=np.arange(0,13))\n",
        "dataframe['13']=features # Adding features coulmn into the samples dataset\n",
        "dataframe.info()"
      ]
    },
    {
      "cell_type": "code",
      "execution_count": 4,
      "id": "1104d407",
      "metadata": {
        "id": "1104d407"
      },
      "outputs": [],
      "source": [
        "feature_1_input=pd.DataFrame(dataframe.loc[dataframe['13']==0,dataframe.columns[0:]])\n",
        "feature_2_input=pd.DataFrame(dataframe.loc[dataframe['13']==255,dataframe.columns[0:]])\n",
        "input_data = feature_1_input.merge(feature_2_input, how='outer')\n",
        "\n",
        "input_dataframe = pd.DataFrame(input_data.iloc[:,0:13])\n",
        "output_dataframe = pd.DataFrame(input_data.iloc[:, 13])"
      ]
    },
    {
      "cell_type": "code",
      "execution_count": 5,
      "id": "5b16c365",
      "metadata": {
        "id": "5b16c365"
      },
      "outputs": [],
      "source": [
        "X_train, X_test, Y_train, Y_test = train_test_split(input_dataframe, output_dataframe, test_size=0.3, random_state=42)"
      ]
    },
    {
      "cell_type": "code",
      "execution_count": 8,
      "id": "c79e97ee",
      "metadata": {
        "colab": {
          "base_uri": "https://localhost:8080/",
          "height": 129
        },
        "id": "c79e97ee",
        "outputId": "457cd3c3-610d-448d-ccd1-b98bf4b0aba7"
      },
      "outputs": [
        {
          "output_type": "stream",
          "name": "stderr",
          "text": [
            "/usr/local/lib/python3.10/dist-packages/sklearn/utils/validation.py:1143: DataConversionWarning: A column-vector y was passed when a 1d array was expected. Please change the shape of y to (n_samples, ), for example using ravel().\n",
            "  y = column_or_1d(y, warn=True)\n"
          ]
        },
        {
          "output_type": "execute_result",
          "data": {
            "text/plain": [
              "SVC()"
            ],
            "text/html": [
              "<style>#sk-container-id-2 {color: black;background-color: white;}#sk-container-id-2 pre{padding: 0;}#sk-container-id-2 div.sk-toggleable {background-color: white;}#sk-container-id-2 label.sk-toggleable__label {cursor: pointer;display: block;width: 100%;margin-bottom: 0;padding: 0.3em;box-sizing: border-box;text-align: center;}#sk-container-id-2 label.sk-toggleable__label-arrow:before {content: \"▸\";float: left;margin-right: 0.25em;color: #696969;}#sk-container-id-2 label.sk-toggleable__label-arrow:hover:before {color: black;}#sk-container-id-2 div.sk-estimator:hover label.sk-toggleable__label-arrow:before {color: black;}#sk-container-id-2 div.sk-toggleable__content {max-height: 0;max-width: 0;overflow: hidden;text-align: left;background-color: #f0f8ff;}#sk-container-id-2 div.sk-toggleable__content pre {margin: 0.2em;color: black;border-radius: 0.25em;background-color: #f0f8ff;}#sk-container-id-2 input.sk-toggleable__control:checked~div.sk-toggleable__content {max-height: 200px;max-width: 100%;overflow: auto;}#sk-container-id-2 input.sk-toggleable__control:checked~label.sk-toggleable__label-arrow:before {content: \"▾\";}#sk-container-id-2 div.sk-estimator input.sk-toggleable__control:checked~label.sk-toggleable__label {background-color: #d4ebff;}#sk-container-id-2 div.sk-label input.sk-toggleable__control:checked~label.sk-toggleable__label {background-color: #d4ebff;}#sk-container-id-2 input.sk-hidden--visually {border: 0;clip: rect(1px 1px 1px 1px);clip: rect(1px, 1px, 1px, 1px);height: 1px;margin: -1px;overflow: hidden;padding: 0;position: absolute;width: 1px;}#sk-container-id-2 div.sk-estimator {font-family: monospace;background-color: #f0f8ff;border: 1px dotted black;border-radius: 0.25em;box-sizing: border-box;margin-bottom: 0.5em;}#sk-container-id-2 div.sk-estimator:hover {background-color: #d4ebff;}#sk-container-id-2 div.sk-parallel-item::after {content: \"\";width: 100%;border-bottom: 1px solid gray;flex-grow: 1;}#sk-container-id-2 div.sk-label:hover label.sk-toggleable__label {background-color: #d4ebff;}#sk-container-id-2 div.sk-serial::before {content: \"\";position: absolute;border-left: 1px solid gray;box-sizing: border-box;top: 0;bottom: 0;left: 50%;z-index: 0;}#sk-container-id-2 div.sk-serial {display: flex;flex-direction: column;align-items: center;background-color: white;padding-right: 0.2em;padding-left: 0.2em;position: relative;}#sk-container-id-2 div.sk-item {position: relative;z-index: 1;}#sk-container-id-2 div.sk-parallel {display: flex;align-items: stretch;justify-content: center;background-color: white;position: relative;}#sk-container-id-2 div.sk-item::before, #sk-container-id-2 div.sk-parallel-item::before {content: \"\";position: absolute;border-left: 1px solid gray;box-sizing: border-box;top: 0;bottom: 0;left: 50%;z-index: -1;}#sk-container-id-2 div.sk-parallel-item {display: flex;flex-direction: column;z-index: 1;position: relative;background-color: white;}#sk-container-id-2 div.sk-parallel-item:first-child::after {align-self: flex-end;width: 50%;}#sk-container-id-2 div.sk-parallel-item:last-child::after {align-self: flex-start;width: 50%;}#sk-container-id-2 div.sk-parallel-item:only-child::after {width: 0;}#sk-container-id-2 div.sk-dashed-wrapped {border: 1px dashed gray;margin: 0 0.4em 0.5em 0.4em;box-sizing: border-box;padding-bottom: 0.4em;background-color: white;}#sk-container-id-2 div.sk-label label {font-family: monospace;font-weight: bold;display: inline-block;line-height: 1.2em;}#sk-container-id-2 div.sk-label-container {text-align: center;}#sk-container-id-2 div.sk-container {/* jupyter's `normalize.less` sets `[hidden] { display: none; }` but bootstrap.min.css set `[hidden] { display: none !important; }` so we also need the `!important` here to be able to override the default hidden behavior on the sphinx rendered scikit-learn.org. See: https://github.com/scikit-learn/scikit-learn/issues/21755 */display: inline-block !important;position: relative;}#sk-container-id-2 div.sk-text-repr-fallback {display: none;}</style><div id=\"sk-container-id-2\" class=\"sk-top-container\"><div class=\"sk-text-repr-fallback\"><pre>SVC()</pre><b>In a Jupyter environment, please rerun this cell to show the HTML representation or trust the notebook. <br />On GitHub, the HTML representation is unable to render, please try loading this page with nbviewer.org.</b></div><div class=\"sk-container\" hidden><div class=\"sk-item\"><div class=\"sk-estimator sk-toggleable\"><input class=\"sk-toggleable__control sk-hidden--visually\" id=\"sk-estimator-id-2\" type=\"checkbox\" checked><label for=\"sk-estimator-id-2\" class=\"sk-toggleable__label sk-toggleable__label-arrow\">SVC</label><div class=\"sk-toggleable__content\"><pre>SVC()</pre></div></div></div></div></div>"
            ]
          },
          "metadata": {},
          "execution_count": 8
        }
      ],
      "source": [
        "from sklearn import svm\n",
        "machine = svm.SVC()\n",
        "machine.fit(X_train, Y_train)"
      ]
    },
    {
      "cell_type": "code",
      "execution_count": 7,
      "id": "b456a261",
      "metadata": {
        "colab": {
          "base_uri": "https://localhost:8080/"
        },
        "id": "b456a261",
        "outputId": "3c6f4939-b4aa-4ab9-eb74-f591c72fa3a5"
      },
      "outputs": [
        {
          "output_type": "stream",
          "name": "stdout",
          "text": [
            "Support Vectors:\n",
            "[[0.01176471 0.         0.00392157 ... 0.         0.00392157 0.0745098 ]\n",
            " [0.         0.00392157 0.00784314 ... 0.         0.         0.0745098 ]\n",
            " [0.         0.01960784 0.         ... 0.         0.         0.0745098 ]\n",
            " ...\n",
            " [0.         0.00392157 0.         ... 0.         0.         0.0745098 ]\n",
            " [0.         0.         0.         ... 0.         0.         0.0745098 ]\n",
            " [0.00784314 0.00784314 0.         ... 0.         0.         0.0745098 ]]\n"
          ]
        }
      ],
      "source": [
        "# A2) Get the support vectors\n",
        "support_vectors = machine.support_vectors_\n",
        "print(\"Support Vectors:\")\n",
        "print(support_vectors)"
      ]
    },
    {
      "cell_type": "code",
      "execution_count": 9,
      "id": "67ff2379",
      "metadata": {
        "colab": {
          "base_uri": "https://localhost:8080/"
        },
        "id": "67ff2379",
        "outputId": "713617ff-02ec-49a4-e93f-9ec6651d1180"
      },
      "outputs": [
        {
          "output_type": "stream",
          "name": "stdout",
          "text": [
            "Accuracy: 0.6604186952288218\n"
          ]
        }
      ],
      "source": [
        "# A3) Test the accuracy of the SVM\n",
        "accuracy = machine.score(X_test, Y_test)\n",
        "print(f\"Accuracy: {accuracy}\")\n",
        "predictions = machine.predict(X_test)"
      ]
    },
    {
      "cell_type": "code",
      "execution_count": 10,
      "id": "a0c85637",
      "metadata": {
        "colab": {
          "base_uri": "https://localhost:8080/"
        },
        "id": "a0c85637",
        "outputId": "08229f7d-ebd8-4112-b3e7-c0eb6bbf1451"
      },
      "outputs": [
        {
          "output_type": "stream",
          "name": "stderr",
          "text": [
            "/usr/local/lib/python3.10/dist-packages/sklearn/utils/validation.py:1143: DataConversionWarning: A column-vector y was passed when a 1d array was expected. Please change the shape of y to (n_samples, ), for example using ravel().\n",
            "  y = column_or_1d(y, warn=True)\n"
          ]
        },
        {
          "output_type": "stream",
          "name": "stdout",
          "text": [
            "Accuracy with linear kernel: 0.6604186952288218\n"
          ]
        },
        {
          "output_type": "stream",
          "name": "stderr",
          "text": [
            "/usr/local/lib/python3.10/dist-packages/sklearn/utils/validation.py:1143: DataConversionWarning: A column-vector y was passed when a 1d array was expected. Please change the shape of y to (n_samples, ), for example using ravel().\n",
            "  y = column_or_1d(y, warn=True)\n"
          ]
        },
        {
          "output_type": "stream",
          "name": "stdout",
          "text": [
            "Accuracy with poly kernel: 0.6604186952288218\n"
          ]
        },
        {
          "output_type": "stream",
          "name": "stderr",
          "text": [
            "/usr/local/lib/python3.10/dist-packages/sklearn/utils/validation.py:1143: DataConversionWarning: A column-vector y was passed when a 1d array was expected. Please change the shape of y to (n_samples, ), for example using ravel().\n",
            "  y = column_or_1d(y, warn=True)\n"
          ]
        },
        {
          "output_type": "stream",
          "name": "stdout",
          "text": [
            "Accuracy with rbf kernel: 0.6604186952288218\n"
          ]
        },
        {
          "output_type": "stream",
          "name": "stderr",
          "text": [
            "/usr/local/lib/python3.10/dist-packages/sklearn/utils/validation.py:1143: DataConversionWarning: A column-vector y was passed when a 1d array was expected. Please change the shape of y to (n_samples, ), for example using ravel().\n",
            "  y = column_or_1d(y, warn=True)\n"
          ]
        },
        {
          "output_type": "stream",
          "name": "stdout",
          "text": [
            "Accuracy with sigmoid kernel: 0.6509250243427459\n"
          ]
        }
      ],
      "source": [
        "# A4) Experiment with different kernel functions\n",
        "from sklearn.svm import SVC\n",
        "kernels = ['linear', 'poly', 'rbf', 'sigmoid']\n",
        "for kernel in kernels:\n",
        "    machine = SVC(kernel=kernel)\n",
        "    machine.fit(X_train, Y_train)\n",
        "    accuracy = machine.score(X_test, Y_test)\n",
        "    print(f\"Accuracy with {kernel} kernel: {accuracy}\")"
      ]
    },
    {
      "cell_type": "code",
      "execution_count": null,
      "id": "104726c2",
      "metadata": {
        "id": "104726c2"
      },
      "outputs": [],
      "source": []
    }
  ],
  "metadata": {
    "kernelspec": {
      "display_name": "Python 3 (ipykernel)",
      "language": "python",
      "name": "python3"
    },
    "language_info": {
      "codemirror_mode": {
        "name": "ipython",
        "version": 3
      },
      "file_extension": ".py",
      "mimetype": "text/x-python",
      "name": "python",
      "nbconvert_exporter": "python",
      "pygments_lexer": "ipython3",
      "version": "3.9.7"
    },
    "colab": {
      "provenance": []
    }
  },
  "nbformat": 4,
  "nbformat_minor": 5
}