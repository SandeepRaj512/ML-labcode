{
 "cells": [
  {
   "cell_type": "code",
   "execution_count": 1,
   "id": "dcecfa4e",
   "metadata": {},
   "outputs": [
    {
     "name": "stdout",
     "output_type": "stream",
     "text": [
      "The shape  (16384, 13) (16384, 1)\n",
      "(16384, 13) (16384,)\n"
     ]
    }
   ],
   "source": [
    "import numpy as np\n",
    "import pandas as pd\n",
    "from matplotlib import pyplot as plt\n",
    "from sklearn import preprocessing as prepro \n",
    "\n",
    "# Load your features and labels\n",
    "samples = np.load(r'D:\\Downloads Folder\\activation_maps_lines_image52_pixel.npy')\n",
    "features = np.load(r'D:\\Downloads Folder\\activation_maps_lines_image52_labelpixel.npy')\n",
    "\n",
    "print(\"The shape \",samples.shape,features.shape)\n",
    "# Reshape your data into a 2D format (pixels x features)\n",
    "num_samples = samples.shape[0]   # Total number of pixels\n",
    "num_features = samples.shape[1]  # Number of features for each pixel\n",
    "X_reshaped = samples.reshape(num_samples,num_features)\n",
    "y_reshaped = features.reshape(num_samples)  # Assuming y is your pixel-wise label mask\n",
    "print(X_reshaped.shape,y_reshaped.shape)"
   ]
  },
  {
   "cell_type": "code",
   "execution_count": 2,
   "id": "8c233146",
   "metadata": {},
   "outputs": [
    {
     "name": "stdout",
     "output_type": "stream",
     "text": [
      "<class 'pandas.core.frame.DataFrame'>\n",
      "RangeIndex: 16384 entries, 0 to 16383\n",
      "Data columns (total 14 columns):\n",
      " #   Column  Non-Null Count  Dtype  \n",
      "---  ------  --------------  -----  \n",
      " 0   0       16384 non-null  float64\n",
      " 1   1       16384 non-null  float64\n",
      " 2   2       16384 non-null  float64\n",
      " 3   3       16384 non-null  float64\n",
      " 4   4       16384 non-null  float64\n",
      " 5   5       16384 non-null  float64\n",
      " 6   6       16384 non-null  float64\n",
      " 7   7       16384 non-null  float64\n",
      " 8   8       16384 non-null  float64\n",
      " 9   9       16384 non-null  float64\n",
      " 10  10      16384 non-null  float64\n",
      " 11  11      16384 non-null  float64\n",
      " 12  12      16384 non-null  float64\n",
      " 13  13      16384 non-null  uint8  \n",
      "dtypes: float64(13), uint8(1)\n",
      "memory usage: 1.6 MB\n"
     ]
    }
   ],
   "source": [
    "samples = pd.DataFrame(samples,columns=np.arange(0,13))\n",
    "samples['13']=features # Adding features coulmn into the samples dataset \n",
    "samples.info() "
   ]
  },
  {
   "cell_type": "code",
   "execution_count": 3,
   "id": "d875072a",
   "metadata": {},
   "outputs": [
    {
     "name": "stdout",
     "output_type": "stream",
     "text": [
      "The mean value of class 1: \n",
      " 0     0.008116\n",
      "1     0.005523\n",
      "2     0.003076\n",
      "3     0.001685\n",
      "4     0.001473\n",
      "5     0.000794\n",
      "6     0.013855\n",
      "7     0.000353\n",
      "8     0.000044\n",
      "9     0.000000\n",
      "10    0.000589\n",
      "11    0.000234\n",
      "12    0.074462\n",
      "dtype: float64\n",
      "The mean value of class 2: \n",
      " 0     0.008098\n",
      "1     0.005399\n",
      "2     0.003150\n",
      "3     0.001754\n",
      "4     0.001539\n",
      "5     0.000888\n",
      "6     0.018550\n",
      "7     0.000394\n",
      "8     0.000070\n",
      "9     0.000000\n",
      "10    0.000592\n",
      "11    0.000250\n",
      "12    0.074482\n",
      "dtype: float64\n"
     ]
    }
   ],
   "source": [
    "# A1 Question:\n",
    "#Finding the class mean and centroid values\n",
    "samples_1=samples.loc[samples['13']==0,samples.columns[0:13]]\n",
    "sample_1_mean=samples_1.mean()\n",
    "print(\"The mean value of class 1: \\n\",sample_1_mean)\n",
    "samples_2=samples.loc[samples['13']==255,samples.columns[0:13]]\n",
    "sample_2_mean=samples_2.mean()\n",
    "print(\"The mean value of class 2: \\n\",sample_2_mean)\n"
   ]
  },
  {
   "cell_type": "code",
   "execution_count": 4,
   "id": "bc31e312",
   "metadata": {},
   "outputs": [
    {
     "name": "stdout",
     "output_type": "stream",
     "text": [
      "The intra class spread of samples_1 is:\n",
      " 0     1.355777e-04\n",
      "1     3.992622e-05\n",
      "2     2.644357e-05\n",
      "3     9.155051e-06\n",
      "4     4.696421e-06\n",
      "5     2.523579e-06\n",
      "6     6.706456e-03\n",
      "7     1.268224e-06\n",
      "8     1.717706e-07\n",
      "9     0.000000e+00\n",
      "10    2.657077e-06\n",
      "11    9.374027e-07\n",
      "12    1.848212e-07\n",
      "dtype: float64\n",
      "The intra class spread of samples_2 is:\n",
      " 0     1.663116e-04\n",
      "1     4.558561e-05\n",
      "2     2.944346e-05\n",
      "3     9.979397e-06\n",
      "4     4.764009e-06\n",
      "5     2.757595e-06\n",
      "6     9.053697e-03\n",
      "7     1.393303e-06\n",
      "8     2.692791e-07\n",
      "9     0.000000e+00\n",
      "10    2.585235e-06\n",
      "11    9.986960e-07\n",
      "12    1.075499e-07\n",
      "dtype: float64\n"
     ]
    }
   ],
   "source": [
    "#Finding the intra class spread\n",
    "samples_1_spread=samples_1.var()\n",
    "samples_2_spread=samples_2.var()\n",
    "print(\"The intra class spread of samples_1 is:\\n\",samples_1_spread)\n",
    "print(\"The intra class spread of samples_2 is:\\n\",samples_2_spread)"
   ]
  },
  {
   "cell_type": "code",
   "execution_count": 5,
   "id": "736dc0ad",
   "metadata": {},
   "outputs": [
    {
     "name": "stdout",
     "output_type": "stream",
     "text": [
      "The inter class distance between centroids of samples_1 and sample_2 is:\n",
      " 0.004699315708851366\n"
     ]
    }
   ],
   "source": [
    "#Finding the inter class distance\n",
    "inter_distance = np.linalg.norm(sample_1_mean - sample_2_mean)\n",
    "print(\"The inter class distance between centroids of samples_1 and sample_2 is:\\n\",inter_distance)"
   ]
  },
  {
   "cell_type": "code",
   "execution_count": 6,
   "id": "4ab841c8",
   "metadata": {},
   "outputs": [
    {
     "name": "stdout",
     "output_type": "stream",
     "text": [
      "The feature taken is: \n",
      " 0        0.000000\n",
      "1        0.000000\n",
      "2        0.000000\n",
      "3        0.003922\n",
      "4        0.000000\n",
      "           ...   \n",
      "16379    0.003922\n",
      "16380    0.000000\n",
      "16381    0.000000\n",
      "16382    0.000000\n",
      "16383    0.000000\n",
      "Name: 5, Length: 16384, dtype: float64\n",
      "The mean value of samples[5] is:\n",
      " 0.0008566463694852912\n",
      "The varinance of samples[5] is :\n",
      " 2.6745271173934785e-06\n"
     ]
    },
    {
     "data": {
      "image/png": "[encoded data removed]",
      "text/plain": [
       "<Figure size 432x288 with 1 Axes>"
      ]
     },
     "metadata": {
      "needs_background": "light"
     },
     "output_type": "display_data"
    }
   ],
   "source": [
    "#A2 Question\n",
    "#Density pattern for a feature\n",
    "feature = samples.loc[:,5]\n",
    "print(\"The feature taken is: \\n\",feature)\n",
    "plt.hist(feature)\n",
    "plt.xlabel('The values of samples[5]')\n",
    "plt.ylabel('The frequency of sample[5] values')\n",
    "plt.title('The distribution of the values in the selected feature')\n",
    "feature_mean = feature.mean()\n",
    "feature_variance = feature.var()\n",
    "print(\"The mean value of samples[5] is:\\n\",feature_mean)\n",
    "print(\"The varinance of samples[5] is :\\n\",feature_variance)"
   ]
  },
  {
   "cell_type": "code",
   "execution_count": 7,
   "id": "fe047ef7",
   "metadata": {},
   "outputs": [
    {
     "name": "stdout",
     "output_type": "stream",
     "text": [
      "The minkowski distance of r value 1 is:  0.039 \n",
      "\n",
      "The minkowski distance of r value 2 is:  0.019 \n",
      "\n",
      "The minkowski distance of r value 3 is:  0.017 \n",
      "\n",
      "The minkowski distance of r value 4 is:  0.016 \n",
      "\n",
      "The minkowski distance of r value 5 is:  0.016 \n",
      "\n",
      "The minkowski distance of r value 6 is:  0.016 \n",
      "\n",
      "The minkowski distance of r value 7 is:  0.016 \n",
      "\n",
      "The minkowski distance of r value 8 is:  0.016 \n",
      "\n",
      "The minkowski distance of r value 9 is:  0.016 \n",
      "\n",
      "The minkowski distance of r value 10 is:  0.016 \n",
      "\n"
     ]
    }
   ],
   "source": [
    "#A3 Question\n",
    "#Find the minkowski distance between two feature vectors\n",
    "from math import *\n",
    "from decimal import Decimal\n",
    "\n",
    "#Function to find the root value\n",
    "def a_root(value, root):\n",
    "    root_value = 1/float(root)\n",
    "    return round(Decimal(value) ** Decimal(root_value), 3)\n",
    "\n",
    "#Function for The minkowski distance\n",
    "def minkowski_distance(x,y,a_value):\n",
    "    return (a_root(sum(pow(abs(a-b), a_value)for a,b in zip(x,y)), a_value))\n",
    "\n",
    "feature_vector_1 = samples.iloc[345,:]\n",
    "feature_vector_2 = samples.iloc[486,:]\n",
    "\n",
    "# Finding the minkowski distance of r value 1\n",
    "minkowski_distance_1 = minkowski_distance(feature_vector_1, feature_vector_2, 1)\n",
    "print('The minkowski distance of r value 1 is: ', minkowski_distance_1, '\\n')\n",
    "# Finding the minkowski distance of r value 2\n",
    "minkowski_distance_2 = minkowski_distance(feature_vector_1, feature_vector_2, 2)\n",
    "print('The minkowski distance of r value 2 is: ', minkowski_distance_2, '\\n')\n",
    "# Finding the minkowski distance of r value 3\n",
    "minkowski_distance_3 = minkowski_distance(feature_vector_1, feature_vector_2, 3)\n",
    "print('The minkowski distance of r value 3 is: ', minkowski_distance_3, '\\n')\n",
    "# Finding the minkowski distance of r value 4\n",
    "minkowski_distance_4 = minkowski_distance(feature_vector_1, feature_vector_2, 4)\n",
    "print('The minkowski distance of r value 4 is: ', minkowski_distance_4, '\\n')\n",
    "# Finding the minkowski distance of r value 5\n",
    "minkowski_distance_5 = minkowski_distance(feature_vector_1, feature_vector_2, 5)\n",
    "print('The minkowski distance of r value 5 is: ', minkowski_distance_5, '\\n')\n",
    "# Finding the minkowski distance of r value 6\n",
    "minkowski_distance_6 = minkowski_distance(feature_vector_1, feature_vector_2, 6)\n",
    "print('The minkowski distance of r value 6 is: ', minkowski_distance_6, '\\n')\n",
    "# Finding the minkowski distance of r value 7\n",
    "minkowski_distance_7 = minkowski_distance(feature_vector_1, feature_vector_2, 7)\n",
    "print('The minkowski distance of r value 7 is: ', minkowski_distance_7, '\\n')\n",
    "# Finding the minkowski distance of r value 8\n",
    "minkowski_distance_8 = minkowski_distance(feature_vector_1, feature_vector_2, 8)\n",
    "print('The minkowski distance of r value 8 is: ', minkowski_distance_8, '\\n')\n",
    "# Finding the minkowski distance of r value 9\n",
    "minkowski_distance_9 = minkowski_distance(feature_vector_1, feature_vector_2, 9)\n",
    "print('The minkowski distance of r value 9 is: ', minkowski_distance_9, '\\n')\n",
    "# Finding the minkowski distance of r value 10\n",
    "minkowski_distance_10 = minkowski_distance(feature_vector_1, feature_vector_2, 10)\n",
    "print('The minkowski distance of r value 10 is: ', minkowski_distance_10, '\\n')\n"
   ]
  },
  {
   "cell_type": "code",
   "execution_count": 8,
   "id": "e2c75ca6",
   "metadata": {},
   "outputs": [
    {
     "data": {
      "text/plain": [
       "Text(0.5, 1.0, 'The distribution of the values for the minkowski distance')"
      ]
     },
     "execution_count": 8,
     "metadata": {},
     "output_type": "execute_result"
    },
    {
     "data": {
      "image/png": "[encoded data removed]",
      "text/plain": [
       "<Figure size 432x288 with 1 Axes>"
      ]
     },
     "metadata": {
      "needs_background": "light"
     },
     "output_type": "display_data"
    }
   ],
   "source": [
    "plot_values = [minkowski_distance_1,minkowski_distance_2,minkowski_distance_3,minkowski_distance_4,minkowski_distance_5,minkowski_distance_6,minkowski_distance_7,minkowski_distance_8,minkowski_distance_9,minkowski_distance_10]\n",
    "plt.hist(plot_values)\n",
    "plt.xlabel('The values of minkowski distances')\n",
    "plt.ylabel('The frequency of distance values')\n",
    "plt.title('The distribution of the values for the minkowski distance')"
   ]
  },
  {
   "cell_type": "code",
   "execution_count": 9,
   "id": "dc9edc7a",
   "metadata": {},
   "outputs": [],
   "source": [
    "#A4 Question\n",
    "#Breaking the data set into training set and testing set\n",
    "from sklearn.model_selection import train_test_split\n",
    "from sklearn.metrics import accuracy_score\n",
    "\n",
    "# Split the reshaped data into training and testing sets\n",
    "X_train, X_test, y_train, y_test = train_test_split(X_reshaped, y_reshaped, test_size=0.2, random_state=42)"
   ]
  },
  {
   "cell_type": "code",
   "execution_count": 49,
   "id": "6cabaca9",
   "metadata": {},
   "outputs": [
    {
     "data": {
      "text/plain": [
       "KNeighborsClassifier(n_neighbors=3)"
      ]
     },
     "execution_count": 49,
     "metadata": {},
     "output_type": "execute_result"
    }
   ],
   "source": [
    "#A5 Question:\n",
    "#Apply the KNN classifier\n",
    "from sklearn.neighbors import KNeighborsClassifier as knn\n",
    "classify = knn(n_neighbors = 3)\n",
    "classify.fit(X_train, y_train)"
   ]
  },
  {
   "cell_type": "code",
   "execution_count": 50,
   "id": "41f3fce8",
   "metadata": {},
   "outputs": [
    {
     "name": "stdout",
     "output_type": "stream",
     "text": [
      "0.4220323466585291\n"
     ]
    }
   ],
   "source": [
    "#A6 Question\n",
    "#Testing the accuracy of kNN classifier\n",
    "print(classify.score(X_test,y_test))"
   ]
  },
  {
   "cell_type": "code",
   "execution_count": 12,
   "id": "d3bd32f1",
   "metadata": {},
   "outputs": [
    {
     "name": "stdout",
     "output_type": "stream",
     "text": [
      "[255   0 255 ...   0   1   0]\n"
     ]
    }
   ],
   "source": [
    "#A7 Question\n",
    "#Predicting the behavior of the test cases\n",
    "predict_k3 = classify.predict(X_test)\n",
    "print(predict_k3)"
   ]
  },
  {
   "cell_type": "code",
   "execution_count": 13,
   "id": "9ee2dbff",
   "metadata": {},
   "outputs": [
    {
     "name": "stdout",
     "output_type": "stream",
     "text": [
      "[0.41867561794324076, 0.34543790051876716, 0.4220323466585291, 0.4156240463838877, 0.43698504729935916, 0.45437900518767166, 0.4610924626182484, 0.46963686298443696, 0.48519987793713765, 0.4827586206896552]\n"
     ]
    },
    {
     "data": {
      "text/plain": [
       "Text(0.5, 0, 'The k value for kNN classification')"
      ]
     },
     "execution_count": 13,
     "metadata": {},
     "output_type": "execute_result"
    },
    {
     "data": {
      "image/png": "[encoded data removed]",
      "text/plain": [
       "<Figure size 432x288 with 1 Axes>"
      ]
     },
     "metadata": {
      "needs_background": "light"
     },
     "output_type": "display_data"
    }
   ],
   "source": [
    "#A8 Question\n",
    "#Checking thr kNN classifiers from k=1 to 11 finding their accuracies\n",
    "from sklearn.metrics import accuracy_score\n",
    "accuracy_test = []\n",
    "for i in range(1,11):\n",
    "    KNN = knn(n_neighbors = i)\n",
    "    KNN.fit(X_train,y_train)\n",
    "    predict = KNN.predict(X_test)\n",
    "    accuracy_test.append(accuracy_score(predict,y_test))\n",
    "print(accuracy_test)\n",
    "plt.plot(np.arange(1,11), accuracy_test, marker = 'o', mfc = 'red')\n",
    "plt.xlabel(\"The k value for kNN classification\")\n",
    "    "
   ]
  },
  {
   "cell_type": "code",
   "execution_count": 17,
   "id": "5427f438",
   "metadata": {},
   "outputs": [
    {
     "name": "stdout",
     "output_type": "stream",
     "text": [
      "[[366  58 152 714]\n",
      " [ 20   6  12  42]\n",
      " [ 47   6  19  91]\n",
      " [503  56 193 992]]\n"
     ]
    }
   ],
   "source": [
    "#A9 Question\n",
    "#Confusion matrix and calcuating the precision, recall and f_1 score\n",
    "from sklearn.metrics import confusion_matrix, classification_report\n",
    "print(confusion_matrix(predict_k3, y_test))"
   ]
  },
  {
   "cell_type": "code",
   "execution_count": 18,
   "id": "5bb256fb",
   "metadata": {},
   "outputs": [
    {
     "name": "stdout",
     "output_type": "stream",
     "text": [
      "              precision    recall  f1-score   support\n",
      "\n",
      "           0       0.39      0.28      0.33      1290\n",
      "           1       0.05      0.07      0.06        80\n",
      "         128       0.05      0.12      0.07       163\n",
      "         255       0.54      0.57      0.55      1744\n",
      "\n",
      "    accuracy                           0.42      3277\n",
      "   macro avg       0.26      0.26      0.25      3277\n",
      "weighted avg       0.44      0.42      0.43      3277\n",
      "\n"
     ]
    }
   ],
   "source": [
    "print(classification_report(predict_k3,y_test))"
   ]
  },
  {
   "cell_type": "code",
   "execution_count": 19,
   "id": "f91a50d5",
   "metadata": {},
   "outputs": [
    {
     "data": {
      "image/png": "[encoded data removed]",
      "text/plain": [
       "<Figure size 432x288 with 1 Axes>"
      ]
     },
     "metadata": {
      "needs_background": "light"
     },
     "output_type": "display_data"
    }
   ],
   "source": [
    "plt.hist(samples.loc[samples['13']])\n",
    "plt.show()"
   ]
  },
  {
   "cell_type": "code",
   "execution_count": 28,
   "id": "cc17e084",
   "metadata": {},
   "outputs": [
    {
     "data": {
      "image/png": "[encoded data removed]",
      "text/plain": [
       "<Figure size 432x288 with 1 Axes>"
      ]
     },
     "metadata": {
      "needs_background": "light"
     },
     "output_type": "display_data"
    }
   ],
   "source": [
    "plt.plot(sample_1_mean, marker='o', ms=10, mfc='blue')\n",
    "plt.plot(sample_2_mean, marker='+', mfc='red')\n",
    "plt.show()"
   ]
  },
  {
   "cell_type": "code",
   "execution_count": null,
   "id": "5a21d588",
   "metadata": {},
   "outputs": [],
   "source": []
  }
 ],
 "metadata": {
  "kernelspec": {
   "display_name": "Python 3 (ipykernel)",
   "language": "python",
   "name": "python3"
  },
  "language_info": {
   "codemirror_mode": {
    "name": "ipython",
    "version": 3
   },
   "file_extension": ".py",
   "mimetype": "text/x-python",
   "name": "python",
   "nbconvert_exporter": "python",
   "pygments_lexer": "ipython3",
   "version": "3.9.7"
  }
 },
 "nbformat": 4,
 "nbformat_minor": 5
}
