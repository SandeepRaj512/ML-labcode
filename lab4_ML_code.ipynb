{
  "nbformat": 4,
  "nbformat_minor": 0,
  "metadata": {
    "colab": {
      "provenance": []
    },
    "kernelspec": {
      "name": "python3",
      "display_name": "Python 3"
    },
    "language_info": {
      "name": "python"
    }
  },
  "cells": [
    {
      "cell_type": "code",
      "execution_count": 4,
      "metadata": {
        "colab": {
          "base_uri": "https://localhost:8080/"
        },
        "id": "KHJKVjrvowK7",
        "outputId": "3533a623-36a0-47e3-ef5f-9812fdfe0429"
      },
      "outputs": [
        {
          "output_type": "stream",
          "name": "stdout",
          "text": [
            "        age  income student credit_rating buys_computer\n",
            "0      <=30    high      no          fair            no\n",
            "1      <=30    high      no     excellent            no\n",
            "2   31...40    high      no          fair           yes\n",
            "3       >40  medium      no          fair           yes\n",
            "4       >40     low     yes          fair           yes\n",
            "5       >40     low     yes     excellent            no\n",
            "6   31...40     low     yes     excellent           yes\n",
            "7      <=30  medium      no          fair            no\n",
            "8      <=30     low     yes          fair           yes\n",
            "9       >40  medium     yes          fair           yes\n",
            "10     <=30  medium     yes     excellent           yes\n",
            "11  31...40  medium      no     excellent           yes\n",
            "12  31...40    high     yes          fair           yes\n",
            "13      >40  medium      no     excellent            no\n"
          ]
        }
      ],
      "source": [
        "import pandas as pd\n",
        "import numpy as np\n",
        "samples = np.load(\"activation_maps_lines_image52_labelpixel (1).npy\")\n",
        "features = np.load(\"activation_maps_lines_image52_pixel (1).npy\")\n",
        "table = {\n",
        "    'age': ['<=30', '<=30', '31...40', '>40', '>40', '>40', '31...40', '<=30', '<=30', '>40', '<=30', '31...40', '31...40', '>40'],\n",
        "    'income': ['high', 'high', 'high', 'medium', 'low', 'low', 'low', 'medium', 'low', 'medium', 'medium', 'medium', 'high', 'medium'],\n",
        "    'student': ['no', 'no', 'no', 'no', 'yes', 'yes', 'yes', 'no', 'yes', 'yes', 'yes', 'no', 'yes', 'no'],\n",
        "    'credit_rating': ['fair', 'excellent', 'fair', 'fair', 'fair', 'excellent', 'excellent', 'fair', 'fair', 'fair', 'excellent', 'excellent', 'fair', 'excellent'],\n",
        "    'buys_computer': ['no', 'no', 'yes', 'yes', 'yes', 'no', 'yes', 'no', 'yes', 'yes', 'yes', 'yes', 'yes', 'no']\n",
        "}\n",
        "\n",
        "dataframe = pd.DataFrame(table, index= [0,1,2,3,4,5,6,7,8,9,10,11,12,13])\n",
        "print(dataframe)"
      ]
    },
    {
      "cell_type": "code",
      "source": [
        "# Question A1:\n",
        "#Calculating the entropy for each attribute at root node\n",
        "Age_field = dataframe.iloc[:, 0]\n",
        "Age_less_equal_30 = Age_field == '<=30'\n",
        "Positive_less_equal_30 = Age_less_equal_30.count()\n",
        "Age_not_less_equal_30 = Age_field != '<=30'\n",
        "Negative_less_equal_30 = Age_not_less_equal_30.count()\n",
        "Total_less_equal_30 = Positive_less_equal_30 + Negative_less_equal_30\n",
        "less_equal_30_probability_positive = Positive_less_equal_30 / Total_less_equal_30\n",
        "less_equal_30_probability_negative = Negative_less_than_30 / Total_less_equal_30\n",
        "Entropy_less_equal_30 = -(less_equal_30_probability_positive * np.log2)"
      ],
      "metadata": {
        "colab": {
          "base_uri": "https://localhost:8080/",
          "height": 228
        },
        "id": "VVSlKv6q5U18",
        "outputId": "59a6321c-03a1-4f8c-ae0f-03e450fe0c96"
      },
      "execution_count": 5,
      "outputs": [
        {
          "output_type": "error",
          "ename": "NameError",
          "evalue": "ignored",
          "traceback": [
            "\u001b[0;31m---------------------------------------------------------------------------\u001b[0m",
            "\u001b[0;31mNameError\u001b[0m                                 Traceback (most recent call last)",
            "\u001b[0;32m<ipython-input-5-f805f3efafea>\u001b[0m in \u001b[0;36m<cell line: 10>\u001b[0;34m()\u001b[0m\n\u001b[1;32m      8\u001b[0m \u001b[0mTotal_less_equal_30\u001b[0m \u001b[0;34m=\u001b[0m \u001b[0mPositive_less_equal_30\u001b[0m \u001b[0;34m+\u001b[0m \u001b[0mNegative_less_equal_30\u001b[0m\u001b[0;34m\u001b[0m\u001b[0;34m\u001b[0m\u001b[0m\n\u001b[1;32m      9\u001b[0m \u001b[0mless_equal_30_probability_positive\u001b[0m \u001b[0;34m=\u001b[0m \u001b[0mPositive_less_equal_30\u001b[0m \u001b[0;34m/\u001b[0m \u001b[0mTotal_less_equal_30\u001b[0m\u001b[0;34m\u001b[0m\u001b[0;34m\u001b[0m\u001b[0m\n\u001b[0;32m---> 10\u001b[0;31m \u001b[0mless_equal_30_probability_negative\u001b[0m \u001b[0;34m=\u001b[0m \u001b[0mNegative_less_than_30\u001b[0m \u001b[0;34m/\u001b[0m \u001b[0mTotal_less_equal_30\u001b[0m\u001b[0;34m\u001b[0m\u001b[0;34m\u001b[0m\u001b[0m\n\u001b[0m\u001b[1;32m     11\u001b[0m \u001b[0mEntropy_less_equal_30\u001b[0m \u001b[0;34m=\u001b[0m \u001b[0;34m-\u001b[0m\u001b[0;34m(\u001b[0m\u001b[0mless_equal_30_probability_positive\u001b[0m \u001b[0;34m*\u001b[0m \u001b[0mnp\u001b[0m\u001b[0;34m.\u001b[0m\u001b[0mlog2\u001b[0m\u001b[0;34m)\u001b[0m\u001b[0;34m\u001b[0m\u001b[0;34m\u001b[0m\u001b[0m\n",
            "\u001b[0;31mNameError\u001b[0m: name 'Negative_less_than_30' is not defined"
          ]
        }
      ]
    }
  ]
}