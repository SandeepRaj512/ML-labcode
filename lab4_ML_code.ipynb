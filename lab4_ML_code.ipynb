{
  "cells": [
    {
      "cell_type": "code",
      "execution_count": 1,
      "metadata": {
        "colab": {
          "base_uri": "https://localhost:8080/"
        },
        "id": "KHJKVjrvowK7",
        "outputId": "3533a623-36a0-47e3-ef5f-9812fdfe0429"
      },
      "outputs": [
        {
          "ename": "ModuleNotFoundError",
          "evalue": "No module named 'pandas'",
          "output_type": "error",
          "traceback": [
            "\u001b[0;31m---------------------------------------------------------------------------\u001b[0m",
            "\u001b[0;31mModuleNotFoundError\u001b[0m                       Traceback (most recent call last)",
            "\u001b[1;32m/Users/sandeep/Documents/GitHub/ML-labcode/lab4_ML_code.ipynb Cell 1\u001b[0m line \u001b[0;36m1\n\u001b[0;32m----> <a href='vscode-notebook-cell:/Users/sandeep/Documents/GitHub/ML-labcode/lab4_ML_code.ipynb#W0sZmlsZQ%3D%3D?line=0'>1</a>\u001b[0m \u001b[39mimport\u001b[39;00m \u001b[39mpandas\u001b[39;00m \u001b[39mas\u001b[39;00m \u001b[39mpd\u001b[39;00m\n\u001b[1;32m      <a href='vscode-notebook-cell:/Users/sandeep/Documents/GitHub/ML-labcode/lab4_ML_code.ipynb#W0sZmlsZQ%3D%3D?line=1'>2</a>\u001b[0m \u001b[39mimport\u001b[39;00m \u001b[39mnumpy\u001b[39;00m \u001b[39mas\u001b[39;00m \u001b[39mnp\u001b[39;00m\n\u001b[1;32m      <a href='vscode-notebook-cell:/Users/sandeep/Documents/GitHub/ML-labcode/lab4_ML_code.ipynb#W0sZmlsZQ%3D%3D?line=2'>3</a>\u001b[0m samples \u001b[39m=\u001b[39m np\u001b[39m.\u001b[39mload(\u001b[39m\"\u001b[39m\u001b[39mactivation_maps_lines_image52_labelpixel (1).npy\u001b[39m\u001b[39m\"\u001b[39m)\n",
            "\u001b[0;31mModuleNotFoundError\u001b[0m: No module named 'pandas'"
          ]
        }
      ],
      "source": [
        "import pandas as pd\n",
        "import numpy as np\n",
        "samples = np.load(\"activation_maps_lines_image52_labelpixel (1).npy\")\n",
        "features = np.load(\"activation_maps_lines_image52_pixel (1).npy\")\n",
        "#Insert your features and labels\n",
        "samples = np.load(r'D:\\Downloads Folder\\activation_maps_lines_image52_pixel.npy')\n",
        "features = np.load(r'D:\\Downloads Folder\\activation_maps_lines_image52_labelpixel.npy')\n",
        "#Creating a table\n",
        "table = {\n",
        "    'age': ['<=30', '<=30', '31...40', '>40', '>40', '>40', '31...40', '<=30', '<=30', '>40', '<=30', '31...40', '31...40', '>40'],\n",
        "    'income': ['high', 'high', 'high', 'medium', 'low', 'low', 'low', 'medium', 'low', 'medium', 'medium', 'medium', 'high', 'medium'],\n",
        "    'student': ['no', 'no', 'no', 'no', 'yes', 'yes', 'yes', 'no', 'yes', 'yes', 'yes', 'no', 'yes', 'no'],\n",
        "    'credit_rating': ['fair', 'excellent', 'fair', 'fair', 'fair', 'excellent', 'excellent', 'fair', 'fair', 'fair', 'excellent', 'excellent', 'fair', 'excellent'],\n",
        "    'buys_computer': ['no', 'no', 'yes', 'yes', 'yes', 'no', 'yes', 'no', 'yes', 'yes', 'yes', 'yes', 'yes', 'no']\n",
        "}\n",
        "\n",
        "dataframe = pd.DataFrame(table, index= [0,1,2,3,4,5,6,7,8,9,10,11,12,13])\n",
        "print(dataframe)"
      ]
    },
    {
      "cell_type": "code",
      "execution_count": null,
      "metadata": {
        "colab": {
          "base_uri": "https://localhost:8080/",
          "height": 228
        },
        "id": "VVSlKv6q5U18",
        "outputId": "59a6321c-03a1-4f8c-ae0f-03e450fe0c96"
      },
      "outputs": [],
      "source": [
        "# Question A1:\n",
        "#Functions of the entropy before,after and Information gain for each attribute at root node\n",
        "def entropyBefore(data_field,attribute_value):\n",
        "    positive_data_field = data_field.value_counts()[attribute_value]\n",
        "    total_data_field = data_field.count()\n",
        "    negative_data_field = total_data_field - positive_data_field\n",
        "    positive_probability = positive_data_field / total_data_field\n",
        "    negative_probability = negative_data_field / total_data_field\n",
        "    return -(positive_probability * float(np.log2(positive_probability)) + negative_probability * float(np.log2(negative_probability)))"
      ]
    },
    {
      "cell_type": "code",
      "execution_count": null,
      "metadata": {},
      "outputs": [
        {
          "ename": "NameError",
          "evalue": "name 'dataframe' is not defined",
          "output_type": "error",
          "traceback": [
            "\u001b[0;31m---------------------------------------------------------------------------\u001b[0m",
            "\u001b[0;31mNameError\u001b[0m                                 Traceback (most recent call last)",
            "\u001b[1;32m/Users/sandeep/Documents/GitHub/ML-labcode/lab4_ML_code.ipynb Cell 3\u001b[0m line \u001b[0;36m2\n\u001b[1;32m      <a href='vscode-notebook-cell:/Users/sandeep/Documents/GitHub/ML-labcode/lab4_ML_code.ipynb#W2sZmlsZQ%3D%3D?line=0'>1</a>\u001b[0m \u001b[39m# Age attributes\u001b[39;00m\n\u001b[0;32m----> <a href='vscode-notebook-cell:/Users/sandeep/Documents/GitHub/ML-labcode/lab4_ML_code.ipynb#W2sZmlsZQ%3D%3D?line=1'>2</a>\u001b[0m age_attribute \u001b[39m=\u001b[39m dataframe\u001b[39m.\u001b[39miloc[:,\u001b[39m0\u001b[39m]\n\u001b[1;32m      <a href='vscode-notebook-cell:/Users/sandeep/Documents/GitHub/ML-labcode/lab4_ML_code.ipynb#W2sZmlsZQ%3D%3D?line=2'>3</a>\u001b[0m \u001b[39mprint\u001b[39m(\u001b[39m\"\u001b[39m\u001b[39mThe list of attributes in age are:\u001b[39m\u001b[39m\\n\u001b[39;00m\u001b[39m \u001b[39m\u001b[39m\"\u001b[39m,age_attribute)\n\u001b[1;32m      <a href='vscode-notebook-cell:/Users/sandeep/Documents/GitHub/ML-labcode/lab4_ML_code.ipynb#W2sZmlsZQ%3D%3D?line=3'>4</a>\u001b[0m entropy_before_age_lessthan_equal_30 \u001b[39m=\u001b[39m entropyBefore(age_attribute,\u001b[39m'\u001b[39m\u001b[39m<=30\u001b[39m\u001b[39m'\u001b[39m) \u001b[39m#Finding the entropy before for <=30\u001b[39;00m\n",
            "\u001b[0;31mNameError\u001b[0m: name 'dataframe' is not defined"
          ]
        }
      ],
      "source": [
        " # Age attributes\n",
        "age_attribute = dataframe.iloc[:,0]\n",
        "print(\"The list of attributes in age are:\\n \",age_attribute)\n",
        "entropy_before_age_lessthan_equal_30 = entropyBefore(age_attribute,'<=30') #Finding the entropy before for <=30\n",
        "entropy_before_age_30_to_40_range = entropyBefore(age_attribute,'31...40')  #Finding the entropy before for 31...40\n",
        "entropy_before_age_greater_40 = entropyBefore(age_attribute,'>40')         #Finding the entropy before for >40\n",
        "\n",
        "print(\"The before entropy of the attribute age,when less than equal to 30:\",entropy_before_age_lessthan_equal_30)\n",
        "print(\"The before entropy of the attribute age of range of 31 ro 40:\",entropy_before_age_30_to_40_range)\n",
        "print(\"The before entropy of the attribute age,when greater than 40: \",entropy_before_age_greater_40)"
      ]
    }
  ],
  "metadata": {
    "colab": {
      "provenance": []
    },
    "kernelspec": {
      "display_name": "Python 3",
      "name": "python3"
    },
    "language_info": {
      "codemirror_mode": {
        "name": "ipython",
        "version": 3
      },
      "file_extension": ".py",
      "mimetype": "text/x-python",
      "name": "python",
      "nbconvert_exporter": "python",
      "pygments_lexer": "ipython3",
      "version": "3.9.6"
    }
  },
  "nbformat": 4,
  "nbformat_minor": 0
}
